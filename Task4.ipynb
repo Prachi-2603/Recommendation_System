{
 "cells": [
  {
   "cell_type": "code",
   "execution_count": 1,
   "id": "8718c208-4361-4e7c-9424-bc3b6e647d86",
   "metadata": {},
   "outputs": [
    {
     "name": "stdout",
     "output_type": "stream",
     "text": [
      "Dataset ml-100k could not be found. Do you want to download it? [Y/n] "
     ]
    },
    {
     "name": "stdin",
     "output_type": "stream",
     "text": [
      " Y\n"
     ]
    },
    {
     "name": "stdout",
     "output_type": "stream",
     "text": [
      "Trying to download dataset from https://files.grouplens.org/datasets/movielens/ml-100k.zip...\n",
      "Done! Dataset ml-100k has been saved to C:\\Users\\Prachi Jariwala/.surprise_data/ml-100k\n",
      "\n",
      "✅ Root Mean Squared Error (RMSE):\n",
      "RMSE: 0.9353\n",
      "User 914 rated movie 381 => Actual: 3.0, Predicted: 3.23\n",
      "User 709 rated movie 282 => Actual: 5.0, Predicted: 3.66\n",
      "User 793 rated movie 257 => Actual: 4.0, Predicted: 3.9\n",
      "User 272 rated movie 98 => Actual: 4.0, Predicted: 4.77\n",
      "User 327 rated movie 111 => Actual: 4.0, Predicted: 3.05\n"
     ]
    }
   ],
   "source": [
    "# ✅ Import Libraries\n",
    "import pandas as pd\n",
    "from surprise import Dataset, Reader, SVD          #Dataset: Built-in datasets and utilities, Reader: Helps define how to read custom datasets,SVD: The Singular Value Decomposition model used to predict ratings\n",
    "from surprise.model_selection import train_test_split   #train_test_split: To split your data into training and testing\n",
    "from surprise.accuracy import rmse               #rmse: To measure the accuracy of your predictions using Root Mean Squared Error\n",
    "\n",
    "# ✅ Load the MovieLens 100k dataset\n",
    "data = Dataset.load_builtin('ml-100k')      #Loads the MovieLens 100k dataset (100,000 ratings from users on movies),No need to download manually — Surprise fetches it for you.\n",
    "\n",
    "# ✅ Split into training and testing\n",
    "trainset, testset = train_test_split(data, test_size=0.2)\n",
    "\n",
    "# ✅ Use SVD (Matrix Factorization) algorithm\n",
    "model = SVD()                #Creates the model using SVD, a powerful technique to learn user and movie preferences\n",
    "model.fit(trainset)          #fit(trainset) trains the model on the training data\n",
    "\n",
    "# ✅ Make predictions on test data\n",
    "predictions = model.test(testset)           #Tests the model on the 20% test data,Makes predictions of what ratings users would give to movies.\n",
    "\n",
    "\n",
    "# ✅ Evaluate the model\n",
    "print(\"\\n✅ Root Mean Squared Error (RMSE):\")     #Lower RMSE = better model,For example, RMSE: 0.92 means on average, the predicted rating is off by about 0.92\n",
    "rmse(predictions)\n",
    "\n",
    "# ✅ Show a few sample predictions\n",
    "for prediction in predictions[:5]:             #Loops through the first 5 predictions.\n",
    "    print(f\"User {prediction.uid} rated movie {prediction.iid} => Actual: {prediction.r_ui}, Predicted: {round(prediction.est, 2)}\") #r_ui: Actual rating the user gave,est: Estimated rating the model predicted\n"
   ]
  },
  {
   "cell_type": "code",
   "execution_count": null,
   "id": "e279bee1-9649-4617-b965-310b2c9b25a6",
   "metadata": {},
   "outputs": [],
   "source": []
  }
 ],
 "metadata": {
  "kernelspec": {
   "display_name": "Python 3 (ipykernel)",
   "language": "python",
   "name": "python3"
  },
  "language_info": {
   "codemirror_mode": {
    "name": "ipython",
    "version": 3
   },
   "file_extension": ".py",
   "mimetype": "text/x-python",
   "name": "python",
   "nbconvert_exporter": "python",
   "pygments_lexer": "ipython3",
   "version": "3.10.4"
  }
 },
 "nbformat": 4,
 "nbformat_minor": 5
}
